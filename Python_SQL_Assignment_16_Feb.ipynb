{
 "cells": [
  {
   "cell_type": "markdown",
   "id": "608c32dc",
   "metadata": {},
   "source": [
    "## Assignment Question"
   ]
  },
  {
   "cell_type": "markdown",
   "id": "f5c97931",
   "metadata": {},
   "source": [
    "__Q1) What is a database? Differentiate between SQL and NoSQL databases ?__\n",
    "\n",
    "__Ans)__ A database is a collection of data that is organized and stored in a way that allows for efficient retrieval and manipulation. <br>\n",
    "\n",
    "SQL (Structured Query Language) and NoSQL (Not Only SQL) are two different types of database systems. SQL databases are relational databases that store data in tables with a pre-defined structure, and use SQL for querying and manipulating the data. NoSQL databases, on the other hand, do not use a pre-defined schema and can store data in various formats, such as key-value pairs or documents. They typically use their own query language or API for data retrieval and manipulation."
   ]
  },
  {
   "cell_type": "markdown",
   "id": "34dc8569",
   "metadata": {},
   "source": [
    "__Q2) What is DDL? Explain why CREATE, DROP, ALTER, and TRUNCATE are used with an example.?__\n",
    "\n",
    "__Ans)__  DDL stands for Data Definition Language, which is a subset of SQL (Structured Query Language) that is used to define, modify, and delete database objects such as tables, indexes, and views. <br>\n",
    "\n",
    "__Here are some examples of DDL statements and their usage:__ <br>\n",
    "\n",
    "* __CREATE:__ This statement is used to create a new database object such as a table. For example, the following SQL statement creates a new table named \"customers\" with three columns: \"id\", \"name\", and \"email\".<br>\n",
    "__Code__ : <br>\n",
    "CREATE TABLE customers ( <br>\n",
    "  id INT PRIMARY KEY,<br>\n",
    "  name VARCHAR(50),<br>\n",
    "  email VARCHAR(100)<br>\n",
    ");<br>\n",
    "\n",
    "* __DROP__: This statement is used to delete a database object such as a table. For example, the following SQL statement drops the \"customers\" table: <br>\n",
    "DROP TABLE customers; <br>\n",
    "\n",
    "* __ALTER:__ This statement is used to modify the structure of a database object. For example, the following SQL statement adds a new column \"phone\" to the \"customers\" table: <br>\n",
    "ALTER TABLE customers ADD phone VARCHAR(20); <br>\n",
    "\n",
    "* __TRUNCATE:__ This statement is used to delete all the data from a table. For example, the following SQL statement removes all the data from the \"customers\" table:\n",
    "TRUNCATE TABLE customers; <br>"
   ]
  },
  {
   "cell_type": "markdown",
   "id": "a96bd7f4",
   "metadata": {},
   "source": [
    "__Q3) What is DML? Explain INSERT, UPDATE, and DELETE with an example.?__\n",
    "\n",
    "__Ans)__ It is a subset of SQL (Structured Query Language) used to manipulate data within a database. DML statements are used to insert, update, retrieve, and delete data from database tables.\n",
    "\n",
    "Here are some examples of DML statements and their usage:\n",
    "\n",
    "* __INSERT:__ This statement is used to insert new data into a table. For example, the following SQL statement inserts a new row into the \"customers\" table with values for the \"name\" and \"email\" columns: <br>\n",
    "__Code__:\n",
    "INSERT INTO customers (name, email) VALUES ('Shehryar Gondal', 'ShehryarGondal@example.com'); <br>\n",
    "\n",
    "* __UPDATE:__ This statement is used to modify existing data in a table. For example, the following SQL statement updates the \"email\" column of the row with the \"id\" value of 1 in the \"customers\" table:<br>\n",
    "__Code__:\n",
    "UPDATE customers SET email = 'jsmith@example.com' WHERE id = 1; <br>\n",
    "\n",
    "* __DELETE:__ This statement is used to remove one or more rows from a table. For example, the following SQL statement deletes the row with the \"id\" value of 1 from the \"customers\" table: <br>\n",
    "__Code__:<br>\n",
    "DELETE FROM CUSTOMER WHERE id =1 ;"
   ]
  },
  {
   "cell_type": "markdown",
   "id": "18a81fd1",
   "metadata": {},
   "source": [
    "__Q4) What is DQL? Explain SELECT with an example ?__\n",
    "\n",
    "__Ans)__ DQL stands for Data Query Language, which is a subset of SQL (Structured Query Language) used to retrieve data from a database. DQL statements are used to search and retrieve data from one or more database tables.\n",
    "\n",
    "__Here is an example of a DQL statement:__ <br>\n",
    "\n",
    "* __SELECT:__ This statement is used to retrieve data from one or more tables. For example, the following SQL statement retrieves all columns and rows from the \"customers\" table:\n",
    "__Code__ : SELECT * FROM customers;"
   ]
  },
  {
   "cell_type": "markdown",
   "id": "ca1fb5a8",
   "metadata": {},
   "source": [
    "__Q5) Explain Primary Key and Foreign Key?__\n",
    "\n",
    "__Ans)__ Primary Key and Foreign Key are two types of constraints used in relational databases to establish a relationship between two tables.A Primary Key uniquely identifies rows in a table, while a Foreign Key links one table to another using a Primary Key-Foreign Key relationship."
   ]
  },
  {
   "cell_type": "markdown",
   "id": "d2318a6e",
   "metadata": {},
   "source": [
    "__Q6) Write a python code to connect MySQL to python. Explain the cursor() and execute() method.?__\n",
    "\n",
    "__Ans)__ In this code, the mysql.connector module is used to connect to a MySQL database. The connect() method is used to establish a connection to the database, and the cursor() method is used to create a cursor object. The execute() method is then called on the cursor object to execute a SQL query. Finally, the fetchall() method is called to fetch the results of the query, which are printed to the console using a for loop. <br>\n",
    "\n",
    "The cursor() method returns a cursor object, which is used to interact with the database. The cursor object allows you to execute SQL queries, fetch results, and manipulate data in the database.<br>\n",
    "\n",
    "The execute() method is used to execute a SQL query. It takes a SQL query string as a parameter and executes the query on the database. The execute() method can be used to execute any type of SQL query, including SELECT, INSERT, UPDATE, and DELETE statements. <br>\n",
    "\n",
    "Overall, this Python code demonstrates how to connect to a MySQL database using the mysql-connector module, create a cursor object, and execute a SQL query using the execute() method."
   ]
  },
  {
   "cell_type": "code",
   "execution_count": null,
   "id": "c5bdb273",
   "metadata": {},
   "outputs": [],
   "source": [
    "import mysql.connector\n",
    "\n",
    "# Connect to the database\n",
    "mydb = mysql.connector.connect(\n",
    "  host=\"localhost\",\n",
    "  user=\"username\",\n",
    "  password=\"password\",\n",
    "  database=\"databasename\"\n",
    ")\n",
    "\n",
    "# Create a cursor object\n",
    "mycursor = mydb.cursor()\n",
    "\n",
    "# Execute a SQL query\n",
    "mycursor.execute(\"SELECT * FROM customers\")\n",
    "\n",
    "# Fetch the results\n",
    "myresult = mycursor.fetchall()\n",
    "\n",
    "for x in myresult:\n",
    "    print(x)\n"
   ]
  },
  {
   "cell_type": "markdown",
   "id": "24438726",
   "metadata": {},
   "source": [
    "__Q7) Q7. Give the order of execution of SQL clauses in an SQL query.?__\n",
    "\n",
    "__Ans)__ The Order of execution of SQL query is :\n",
    "1. FROM.\n",
    "2. WHERE.\n",
    "3. GROUP BY.\n",
    "4. HAVING.\n",
    "5. SELECT.\n",
    "6. ORDER BY.\n",
    "7. LIMIT."
   ]
  },
  {
   "cell_type": "markdown",
   "id": "7b5b4e88",
   "metadata": {},
   "source": [
    "-------------------------------------------------------------------------------------------- __End__----------------------------------------------------------------------------------------------------------------"
   ]
  },
  {
   "cell_type": "code",
   "execution_count": null,
   "id": "7027db22",
   "metadata": {},
   "outputs": [],
   "source": []
  }
 ],
 "metadata": {
  "kernelspec": {
   "display_name": "Python 3 (ipykernel)",
   "language": "python",
   "name": "python3"
  },
  "language_info": {
   "codemirror_mode": {
    "name": "ipython",
    "version": 3
   },
   "file_extension": ".py",
   "mimetype": "text/x-python",
   "name": "python",
   "nbconvert_exporter": "python",
   "pygments_lexer": "ipython3",
   "version": "3.9.12"
  },
  "varInspector": {
   "cols": {
    "lenName": 16,
    "lenType": 16,
    "lenVar": 40
   },
   "kernels_config": {
    "python": {
     "delete_cmd_postfix": "",
     "delete_cmd_prefix": "del ",
     "library": "var_list.py",
     "varRefreshCmd": "print(var_dic_list())"
    },
    "r": {
     "delete_cmd_postfix": ") ",
     "delete_cmd_prefix": "rm(",
     "library": "var_list.r",
     "varRefreshCmd": "cat(var_dic_list()) "
    }
   },
   "types_to_exclude": [
    "module",
    "function",
    "builtin_function_or_method",
    "instance",
    "_Feature"
   ],
   "window_display": false
  }
 },
 "nbformat": 4,
 "nbformat_minor": 5
}
